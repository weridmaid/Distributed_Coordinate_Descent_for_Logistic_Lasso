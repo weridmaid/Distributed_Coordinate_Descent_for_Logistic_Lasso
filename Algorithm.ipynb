{
 "cells": [
  {
   "cell_type": "markdown",
   "metadata": {},
   "source": [
    "# Brick algorithm"
   ]
  },
  {
   "cell_type": "markdown",
   "metadata": {},
   "source": [
    "# Mathis"
   ]
  },
  {
   "cell_type": "code",
   "execution_count": 1,
   "metadata": {
    "collapsed": false
   },
   "outputs": [],
   "source": [
    "# Line search\n",
    "import os\n",
    "os.chdir('/Users/Linger/Desktop/ENSAE_MS/S1/Données_massives/Distributed_Coordinate_Descent_for_Logistic_Lasso')\n",
    "\n",
    "import pandas as pd\n",
    "data = pd.read_csv('Iris.csv')\n",
    "\n",
    "data['Species'] = data['Species'].map({'Iris-virginica': 1, 'Iris-versicolor': 1, 'Iris-setosa':-1})\n",
    "data = data.drop(['Id'], axis = 1)"
   ]
  },
  {
   "cell_type": "code",
   "execution_count": 2,
   "metadata": {
    "collapsed": false
   },
   "outputs": [
    {
     "data": {
      "text/html": [
       "<div>\n",
       "<style>\n",
       "    .dataframe thead tr:only-child th {\n",
       "        text-align: right;\n",
       "    }\n",
       "\n",
       "    .dataframe thead th {\n",
       "        text-align: left;\n",
       "    }\n",
       "\n",
       "    .dataframe tbody tr th {\n",
       "        vertical-align: top;\n",
       "    }\n",
       "</style>\n",
       "<table border=\"1\" class=\"dataframe\">\n",
       "  <thead>\n",
       "    <tr style=\"text-align: right;\">\n",
       "      <th></th>\n",
       "      <th>SepalLengthCm</th>\n",
       "      <th>SepalWidthCm</th>\n",
       "      <th>PetalLengthCm</th>\n",
       "      <th>PetalWidthCm</th>\n",
       "      <th>Species</th>\n",
       "    </tr>\n",
       "  </thead>\n",
       "  <tbody>\n",
       "    <tr>\n",
       "      <th>0</th>\n",
       "      <td>5.1</td>\n",
       "      <td>3.5</td>\n",
       "      <td>1.4</td>\n",
       "      <td>0.2</td>\n",
       "      <td>-1</td>\n",
       "    </tr>\n",
       "    <tr>\n",
       "      <th>1</th>\n",
       "      <td>4.9</td>\n",
       "      <td>3.0</td>\n",
       "      <td>1.4</td>\n",
       "      <td>0.2</td>\n",
       "      <td>-1</td>\n",
       "    </tr>\n",
       "    <tr>\n",
       "      <th>2</th>\n",
       "      <td>4.7</td>\n",
       "      <td>3.2</td>\n",
       "      <td>1.3</td>\n",
       "      <td>0.2</td>\n",
       "      <td>-1</td>\n",
       "    </tr>\n",
       "    <tr>\n",
       "      <th>3</th>\n",
       "      <td>4.6</td>\n",
       "      <td>3.1</td>\n",
       "      <td>1.5</td>\n",
       "      <td>0.2</td>\n",
       "      <td>-1</td>\n",
       "    </tr>\n",
       "    <tr>\n",
       "      <th>4</th>\n",
       "      <td>5.0</td>\n",
       "      <td>3.6</td>\n",
       "      <td>1.4</td>\n",
       "      <td>0.2</td>\n",
       "      <td>-1</td>\n",
       "    </tr>\n",
       "  </tbody>\n",
       "</table>\n",
       "</div>"
      ],
      "text/plain": [
       "   SepalLengthCm  SepalWidthCm  PetalLengthCm  PetalWidthCm  Species\n",
       "0            5.1           3.5            1.4           0.2       -1\n",
       "1            4.9           3.0            1.4           0.2       -1\n",
       "2            4.7           3.2            1.3           0.2       -1\n",
       "3            4.6           3.1            1.5           0.2       -1\n",
       "4            5.0           3.6            1.4           0.2       -1"
      ]
     },
     "execution_count": 2,
     "metadata": {},
     "output_type": "execute_result"
    }
   ],
   "source": [
    "# These are the data I use to compute the functional we want to minimize (i.e f(Beta))\n",
    "data.head()"
   ]
  },
  {
   "cell_type": "code",
   "execution_count": 3,
   "metadata": {
    "collapsed": true
   },
   "outputs": [],
   "source": [
    "# Import modules\n",
    "import numpy as np"
   ]
  },
  {
   "cell_type": "code",
   "execution_count": 4,
   "metadata": {
    "collapsed": false
   },
   "outputs": [],
   "source": [
    "# Here I create the data matrix X, vector of response Y and vector of coefficients beta\n",
    "Y = data.Species.values\n",
    "X = data[data.columns.difference(['Species'])].as_matrix()\n",
    "beta = np.random.normal(size=4) # Here I simulate random coefficients from a normal 0,1 "
   ]
  },
  {
   "cell_type": "markdown",
   "metadata": {},
   "source": [
    "$f(\\beta) = L(\\beta) + \\lambda ||\\beta||_1$ where $L(\\beta) = \\sum\\limits_{i=1}^nlog(1+e^{-y_i\\beta^Tx_i})$"
   ]
  },
  {
   "cell_type": "code",
   "execution_count": 5,
   "metadata": {
    "collapsed": false
   },
   "outputs": [],
   "source": [
    "def loss_function(beta):\n",
    "    y_beta_x = np.multiply(Y,X.dot(beta))\n",
    "    return sum(np.log(1+np.exp(-y_beta_x)))"
   ]
  },
  {
   "cell_type": "code",
   "execution_count": 6,
   "metadata": {
    "collapsed": false
   },
   "outputs": [],
   "source": [
    "def penalty(regularization):\n",
    "    return regularization*np.linalg.norm(beta, ord=1)"
   ]
  },
  {
   "cell_type": "code",
   "execution_count": 7,
   "metadata": {
    "collapsed": true
   },
   "outputs": [],
   "source": [
    "# This is f(beta)\n",
    "def functional(beta,regularization):\n",
    "    return loss_function(beta)+penalty(regularization)"
   ]
  },
  {
   "cell_type": "markdown",
   "metadata": {},
   "source": [
    "__Algorithm 3:__ Line search procedure:\n",
    "\n",
    "1. If $\\alpha = 1$ yields sufficient relative decrease in the objective, return $\\alpha=1$\n",
    "\n",
    "2. Find $\\alpha_{init} = argmin_{\\delta<\\alpha<1} \\text{  } f(\\beta+\\alpha\\Delta\\beta)$, $\\delta >0$\n",
    "\n",
    "3. Armijo rule: Let $\\alpha$ be the largest element of the sequence $\\{\\alpha_{init}b^j\\}_{j=0,1,...}$ satisfying\n",
    "\n",
    "<h1><center>\n",
    "$f(\\beta+\\alpha\\Delta\\beta) \\leq f(\\beta)+\\alpha\\sigma D$\n",
    "</center></h1>\n",
    "\n",
    "where $0<b<1$, $0<\\sigma<1$, $0\\leq\\gamma<1$, and\n",
    "\n",
    "<h1><center>\n",
    "$D = \\nabla L(\\beta)^T \\Delta\\beta+\\gamma\\Delta\\beta^T\\tilde{H}\\Delta\\beta+\\lambda(||\\beta-\\Delta\\beta||_1-||\\beta||_1)$\n",
    "</center></h1>\n",
    "\n",
    "return $\\alpha$"
   ]
  },
  {
   "cell_type": "markdown",
   "metadata": {},
   "source": [
    "What is difficult here is to compute D. In what follows, I explain how is computed $\\nabla L(\\beta)$ and $\\tilde{H}$:\n",
    "\n",
    "- $\\nabla L(\\beta) = \\frac{dL(\\beta)}{d\\beta} = (\\frac{dL(\\beta)}{d\\beta_1}, \\frac{dL(\\beta)}{d\\beta_2},...) \\text{  avec  } L(\\beta) = \\sum\\limits_{i=1}^nlog(1+e^{-y_i\\beta^Tx_i}) = \\sum\\limits_{i=1}^nlog(1+e^{-y_i(\\beta_{1i}x_{1i}+\\beta_{2i}x_{2i}+...)})$\n",
    "\n",
    "So it comes that $\\nabla L(\\beta) = \\bigg(\\sum\\limits_{i=1}^n\\frac{-y_ix_{1i}e^{-y_i(\\beta_{1i}x_{1i}+\\beta_{2i}x_{2i}+...)}}{1+e^{-y_i(\\beta_{1i}x_{1i}+\\beta_{2i}x_{2i}+...)}}, \\sum\\limits_{i=1}^n\\frac{-y_ix_{2i}e^{-y_i(\\beta_{1i}x_{1i}+\\beta_{2i}x_{2i}+...)}}{1+e^{-y_i(\\beta_{1i}x_{1i}+\\beta_{2i}x_{2i}+...)}},...\\bigg) = \\bigg(\\sum\\limits_{i=1}^n\\frac{-y_ix_{1i}e^{-y_i\\beta^Tx_i}}{1+e^{-y_i\\beta^Tx_i}}, \\sum\\limits_{i=1}^n\\frac{-y_ix_{2i}e^{-y_i\\beta^Tx_i}}{1+e^{-y_i\\beta^Tx_i}},...\\bigg)$"
   ]
  },
  {
   "cell_type": "code",
   "execution_count": 8,
   "metadata": {
    "collapsed": true
   },
   "outputs": [],
   "source": [
    "def gradient_loss(beta):\n",
    "    gradient = []\n",
    "    for j in range(len(beta)):\n",
    "        y_beta_x = Y*X.dot(beta)\n",
    "        y_xj = Y*X[:,j]\n",
    "        gradient_betaj = sum((-y_xj*np.exp(-y_beta_x))/(1+np.exp(-y_beta_x)))\n",
    "        gradient.append(gradient_betaj)\n",
    "    return np.array(gradient)"
   ]
  },
  {
   "cell_type": "markdown",
   "metadata": {},
   "source": [
    "- $\\tilde{H}$ is such that $(\\tilde{H})_{jl} =\n",
    "    \\begin{cases}\n",
    "    (\\nabla^2L(\\beta))_{jl},& \\text{if } \\exists m:j,l \\in S_m\\\\\n",
    "    0,              & \\text{otherwise}\n",
    "    \\end{cases}$\n",
    "\n",
    "To compute the $\\tilde{H}$ matrix, we will suppose a partitioning over 2 machines. The partitionning is supposed to be given by a dictionnary."
   ]
  },
  {
   "cell_type": "code",
   "execution_count": 26,
   "metadata": {
    "collapsed": false
   },
   "outputs": [],
   "source": [
    "partition = {1:['SepalLengthCm', 'SepalWidthCm'], 2:['PetalLengthCm', 'PetalWidthCm']}"
   ]
  },
  {
   "cell_type": "markdown",
   "metadata": {},
   "source": [
    "To do this computation, we need first to define the second derivative of the loss between two variables $j$ and $l$. We will differenciate two cases: if $j \\neq l$ and $j = l$.\n",
    "\n",
    "    -  Case where j is different from l:\n",
    "$(\\nabla^2L(\\beta))_{jl} = \\sum\\limits_{i=1}^n\\frac{y_i^2x_{ji}x_{li}e^{-y_i\\beta^Tx_i}(1+e^{-y_i\\beta^Tx_i}) + y_ix_{li}e^{-y_i\\beta^Tx_i}(-y_ix_{ji}e^{-y_i\\beta^Tx_i})}{(1+e^{-y_i\\beta^Tx_i})^2}$"
   ]
  },
  {
   "cell_type": "code",
   "execution_count": null,
   "metadata": {
    "collapsed": true
   },
   "outputs": [],
   "source": [
    "def second_gradient_loss(beta,j,l):\n",
    "    y_beta_x = Y*X.dot(beta)\n",
    "    ysq_xj_xl = Y**2*X[:,j]*X[:,l])\n",
    "    gradient_betajl = sum((ysq_xj_xl*np.exp(-y_beta_x)*(1+np.exp(-y_beta_x)) + )/(1+np.exp(-y_beta_x)))\n",
    "    return gradient_betajl"
   ]
  },
  {
   "cell_type": "code",
   "execution_count": 38,
   "metadata": {
    "collapsed": false
   },
   "outputs": [
    {
     "data": {
      "text/plain": [
       "array([-1, -1, -1, -1, -1, -1, -1, -1, -1, -1, -1, -1, -1, -1, -1, -1, -1,\n",
       "       -1, -1, -1, -1, -1, -1, -1, -1, -1, -1, -1, -1, -1, -1, -1, -1, -1,\n",
       "       -1, -1, -1, -1, -1, -1, -1, -1, -1, -1, -1, -1, -1, -1, -1, -1,  1,\n",
       "        1,  1,  1,  1,  1,  1,  1,  1,  1,  1,  1,  1,  1,  1,  1,  1,  1,\n",
       "        1,  1,  1,  1,  1,  1,  1,  1,  1,  1,  1,  1,  1,  1,  1,  1,  1,\n",
       "        1,  1,  1,  1,  1,  1,  1,  1,  1,  1,  1,  1,  1,  1,  1,  1,  1,\n",
       "        1,  1,  1,  1,  1,  1,  1,  1,  1,  1,  1,  1,  1,  1,  1,  1,  1,\n",
       "        1,  1,  1,  1,  1,  1,  1,  1,  1,  1,  1,  1,  1,  1,  1,  1,  1,\n",
       "        1,  1,  1,  1,  1,  1,  1,  1,  1,  1,  1,  1,  1,  1])"
      ]
     },
     "execution_count": 38,
     "metadata": {},
     "output_type": "execute_result"
    }
   ],
   "source": [
    "Y"
   ]
  },
  {
   "cell_type": "code",
   "execution_count": 39,
   "metadata": {
    "collapsed": false
   },
   "outputs": [
    {
     "data": {
      "text/plain": [
       "array([ 5.1,  4.9,  4.7,  4.6,  5. ,  5.4,  4.6,  5. ,  4.4,  4.9,  5.4,\n",
       "        4.8,  4.8,  4.3,  5.8,  5.7,  5.4,  5.1,  5.7,  5.1,  5.4,  5.1,\n",
       "        4.6,  5.1,  4.8,  5. ,  5. ,  5.2,  5.2,  4.7,  4.8,  5.4,  5.2,\n",
       "        5.5,  4.9,  5. ,  5.5,  4.9,  4.4,  5.1,  5. ,  4.5,  4.4,  5. ,\n",
       "        5.1,  4.8,  5.1,  4.6,  5.3,  5. ,  7. ,  6.4,  6.9,  5.5,  6.5,\n",
       "        5.7,  6.3,  4.9,  6.6,  5.2,  5. ,  5.9,  6. ,  6.1,  5.6,  6.7,\n",
       "        5.6,  5.8,  6.2,  5.6,  5.9,  6.1,  6.3,  6.1,  6.4,  6.6,  6.8,\n",
       "        6.7,  6. ,  5.7,  5.5,  5.5,  5.8,  6. ,  5.4,  6. ,  6.7,  6.3,\n",
       "        5.6,  5.5,  5.5,  6.1,  5.8,  5. ,  5.6,  5.7,  5.7,  6.2,  5.1,\n",
       "        5.7,  6.3,  5.8,  7.1,  6.3,  6.5,  7.6,  4.9,  7.3,  6.7,  7.2,\n",
       "        6.5,  6.4,  6.8,  5.7,  5.8,  6.4,  6.5,  7.7,  7.7,  6. ,  6.9,\n",
       "        5.6,  7.7,  6.3,  6.7,  7.2,  6.2,  6.1,  6.4,  7.2,  7.4,  7.9,\n",
       "        6.4,  6.3,  6.1,  7.7,  6.3,  6.4,  6. ,  6.9,  6.7,  6.9,  5.8,\n",
       "        6.8,  6.7,  6.7,  6.3,  6.5,  6.2,  5.9])"
      ]
     },
     "execution_count": 39,
     "metadata": {},
     "output_type": "execute_result"
    }
   ],
   "source": [
    "X[:,2]"
   ]
  },
  {
   "cell_type": "code",
   "execution_count": 40,
   "metadata": {
    "collapsed": false
   },
   "outputs": [
    {
     "data": {
      "text/plain": [
       "array([-5.1, -4.9, -4.7, -4.6, -5. , -5.4, -4.6, -5. , -4.4, -4.9, -5.4,\n",
       "       -4.8, -4.8, -4.3, -5.8, -5.7, -5.4, -5.1, -5.7, -5.1, -5.4, -5.1,\n",
       "       -4.6, -5.1, -4.8, -5. , -5. , -5.2, -5.2, -4.7, -4.8, -5.4, -5.2,\n",
       "       -5.5, -4.9, -5. , -5.5, -4.9, -4.4, -5.1, -5. , -4.5, -4.4, -5. ,\n",
       "       -5.1, -4.8, -5.1, -4.6, -5.3, -5. ,  7. ,  6.4,  6.9,  5.5,  6.5,\n",
       "        5.7,  6.3,  4.9,  6.6,  5.2,  5. ,  5.9,  6. ,  6.1,  5.6,  6.7,\n",
       "        5.6,  5.8,  6.2,  5.6,  5.9,  6.1,  6.3,  6.1,  6.4,  6.6,  6.8,\n",
       "        6.7,  6. ,  5.7,  5.5,  5.5,  5.8,  6. ,  5.4,  6. ,  6.7,  6.3,\n",
       "        5.6,  5.5,  5.5,  6.1,  5.8,  5. ,  5.6,  5.7,  5.7,  6.2,  5.1,\n",
       "        5.7,  6.3,  5.8,  7.1,  6.3,  6.5,  7.6,  4.9,  7.3,  6.7,  7.2,\n",
       "        6.5,  6.4,  6.8,  5.7,  5.8,  6.4,  6.5,  7.7,  7.7,  6. ,  6.9,\n",
       "        5.6,  7.7,  6.3,  6.7,  7.2,  6.2,  6.1,  6.4,  7.2,  7.4,  7.9,\n",
       "        6.4,  6.3,  6.1,  7.7,  6.3,  6.4,  6. ,  6.9,  6.7,  6.9,  5.8,\n",
       "        6.8,  6.7,  6.7,  6.3,  6.5,  6.2,  5.9])"
      ]
     },
     "execution_count": 40,
     "metadata": {},
     "output_type": "execute_result"
    }
   ],
   "source": [
    "Y*X[:,2]"
   ]
  },
  {
   "cell_type": "code",
   "execution_count": 41,
   "metadata": {
    "collapsed": false
   },
   "outputs": [
    {
     "data": {
      "text/plain": [
       "array([-5.1, -4.9, -4.7, -4.6, -5. , -5.4, -4.6, -5. , -4.4, -4.9, -5.4,\n",
       "       -4.8, -4.8, -4.3, -5.8, -5.7, -5.4, -5.1, -5.7, -5.1, -5.4, -5.1,\n",
       "       -4.6, -5.1, -4.8, -5. , -5. , -5.2, -5.2, -4.7, -4.8, -5.4, -5.2,\n",
       "       -5.5, -4.9, -5. , -5.5, -4.9, -4.4, -5.1, -5. , -4.5, -4.4, -5. ,\n",
       "       -5.1, -4.8, -5.1, -4.6, -5.3, -5. ,  7. ,  6.4,  6.9,  5.5,  6.5,\n",
       "        5.7,  6.3,  4.9,  6.6,  5.2,  5. ,  5.9,  6. ,  6.1,  5.6,  6.7,\n",
       "        5.6,  5.8,  6.2,  5.6,  5.9,  6.1,  6.3,  6.1,  6.4,  6.6,  6.8,\n",
       "        6.7,  6. ,  5.7,  5.5,  5.5,  5.8,  6. ,  5.4,  6. ,  6.7,  6.3,\n",
       "        5.6,  5.5,  5.5,  6.1,  5.8,  5. ,  5.6,  5.7,  5.7,  6.2,  5.1,\n",
       "        5.7,  6.3,  5.8,  7.1,  6.3,  6.5,  7.6,  4.9,  7.3,  6.7,  7.2,\n",
       "        6.5,  6.4,  6.8,  5.7,  5.8,  6.4,  6.5,  7.7,  7.7,  6. ,  6.9,\n",
       "        5.6,  7.7,  6.3,  6.7,  7.2,  6.2,  6.1,  6.4,  7.2,  7.4,  7.9,\n",
       "        6.4,  6.3,  6.1,  7.7,  6.3,  6.4,  6. ,  6.9,  6.7,  6.9,  5.8,\n",
       "        6.8,  6.7,  6.7,  6.3,  6.5,  6.2,  5.9])"
      ]
     },
     "execution_count": 41,
     "metadata": {},
     "output_type": "execute_result"
    }
   ],
   "source": [
    "np.multiply(Y,X[:,2])"
   ]
  },
  {
   "cell_type": "code",
   "execution_count": 37,
   "metadata": {
    "collapsed": false
   },
   "outputs": [
    {
     "data": {
      "text/plain": [
       "array([ 5.1,  4.9,  4.7,  4.6,  5. ,  5.4,  4.6,  5. ,  4.4,  4.9,  5.4,\n",
       "        4.8,  4.8,  4.3,  5.8,  5.7,  5.4,  5.1,  5.7,  5.1,  5.4,  5.1,\n",
       "        4.6,  5.1,  4.8,  5. ,  5. ,  5.2,  5.2,  4.7,  4.8,  5.4,  5.2,\n",
       "        5.5,  4.9,  5. ,  5.5,  4.9,  4.4,  5.1,  5. ,  4.5,  4.4,  5. ,\n",
       "        5.1,  4.8,  5.1,  4.6,  5.3,  5. ,  7. ,  6.4,  6.9,  5.5,  6.5,\n",
       "        5.7,  6.3,  4.9,  6.6,  5.2,  5. ,  5.9,  6. ,  6.1,  5.6,  6.7,\n",
       "        5.6,  5.8,  6.2,  5.6,  5.9,  6.1,  6.3,  6.1,  6.4,  6.6,  6.8,\n",
       "        6.7,  6. ,  5.7,  5.5,  5.5,  5.8,  6. ,  5.4,  6. ,  6.7,  6.3,\n",
       "        5.6,  5.5,  5.5,  6.1,  5.8,  5. ,  5.6,  5.7,  5.7,  6.2,  5.1,\n",
       "        5.7,  6.3,  5.8,  7.1,  6.3,  6.5,  7.6,  4.9,  7.3,  6.7,  7.2,\n",
       "        6.5,  6.4,  6.8,  5.7,  5.8,  6.4,  6.5,  7.7,  7.7,  6. ,  6.9,\n",
       "        5.6,  7.7,  6.3,  6.7,  7.2,  6.2,  6.1,  6.4,  7.2,  7.4,  7.9,\n",
       "        6.4,  6.3,  6.1,  7.7,  6.3,  6.4,  6. ,  6.9,  6.7,  6.9,  5.8,\n",
       "        6.8,  6.7,  6.7,  6.3,  6.5,  6.2,  5.9])"
      ]
     },
     "execution_count": 37,
     "metadata": {},
     "output_type": "execute_result"
    }
   ],
   "source": [
    "np.multiply(Y**2,X[:,2])"
   ]
  },
  {
   "cell_type": "code",
   "execution_count": 36,
   "metadata": {
    "collapsed": false
   },
   "outputs": [
    {
     "data": {
      "text/plain": [
       "array([ 5.1,  4.9,  4.7,  4.6,  5. ,  5.4,  4.6,  5. ,  4.4,  4.9,  5.4,\n",
       "        4.8,  4.8,  4.3,  5.8,  5.7,  5.4,  5.1,  5.7,  5.1,  5.4,  5.1,\n",
       "        4.6,  5.1,  4.8,  5. ,  5. ,  5.2,  5.2,  4.7,  4.8,  5.4,  5.2,\n",
       "        5.5,  4.9,  5. ,  5.5,  4.9,  4.4,  5.1,  5. ,  4.5,  4.4,  5. ,\n",
       "        5.1,  4.8,  5.1,  4.6,  5.3,  5. ,  7. ,  6.4,  6.9,  5.5,  6.5,\n",
       "        5.7,  6.3,  4.9,  6.6,  5.2,  5. ,  5.9,  6. ,  6.1,  5.6,  6.7,\n",
       "        5.6,  5.8,  6.2,  5.6,  5.9,  6.1,  6.3,  6.1,  6.4,  6.6,  6.8,\n",
       "        6.7,  6. ,  5.7,  5.5,  5.5,  5.8,  6. ,  5.4,  6. ,  6.7,  6.3,\n",
       "        5.6,  5.5,  5.5,  6.1,  5.8,  5. ,  5.6,  5.7,  5.7,  6.2,  5.1,\n",
       "        5.7,  6.3,  5.8,  7.1,  6.3,  6.5,  7.6,  4.9,  7.3,  6.7,  7.2,\n",
       "        6.5,  6.4,  6.8,  5.7,  5.8,  6.4,  6.5,  7.7,  7.7,  6. ,  6.9,\n",
       "        5.6,  7.7,  6.3,  6.7,  7.2,  6.2,  6.1,  6.4,  7.2,  7.4,  7.9,\n",
       "        6.4,  6.3,  6.1,  7.7,  6.3,  6.4,  6. ,  6.9,  6.7,  6.9,  5.8,\n",
       "        6.8,  6.7,  6.7,  6.3,  6.5,  6.2,  5.9])"
      ]
     },
     "execution_count": 36,
     "metadata": {},
     "output_type": "execute_result"
    }
   ],
   "source": [
    "np.multiply(Y**2,X[:,2])"
   ]
  },
  {
   "cell_type": "code",
   "execution_count": null,
   "metadata": {
    "collapsed": true
   },
   "outputs": [],
   "source": [
    "def H_tilde():"
   ]
  },
  {
   "cell_type": "code",
   "execution_count": 29,
   "metadata": {
    "collapsed": false
   },
   "outputs": [],
   "source": [
    "H_tilde = np.empty((len(beta),len(beta),))\n",
    "H_tilde[:] = np.nan"
   ]
  },
  {
   "cell_type": "code",
   "execution_count": 30,
   "metadata": {
    "collapsed": false
   },
   "outputs": [
    {
     "data": {
      "text/plain": [
       "array([[ nan,  nan,  nan,  nan],\n",
       "       [ nan,  nan,  nan,  nan],\n",
       "       [ nan,  nan,  nan,  nan],\n",
       "       [ nan,  nan,  nan,  nan]])"
      ]
     },
     "execution_count": 30,
     "metadata": {},
     "output_type": "execute_result"
    }
   ],
   "source": [
    "H_tilde"
   ]
  },
  {
   "cell_type": "code",
   "execution_count": 18,
   "metadata": {
    "collapsed": false
   },
   "outputs": [],
   "source": [
    "i_upper = np.triu_indices(5, 1)\n",
    "i_lower = np.tril_indices(5, -1)\n",
    "matrix[i_upper] = matrix[i_lower]"
   ]
  },
  {
   "cell_type": "code",
   "execution_count": 9,
   "metadata": {
    "collapsed": false
   },
   "outputs": [
    {
     "data": {
      "text/plain": [
       "array([[ 2,  3,  0,  0],\n",
       "       [ 3,  4,  0,  0],\n",
       "       [ 0,  0,  1,  4],\n",
       "       [ 0,  0,  4, 17]])"
      ]
     },
     "execution_count": 9,
     "metadata": {},
     "output_type": "execute_result"
    }
   ],
   "source": [
    "# Suppose the following H_tilde matrix:\n",
    "H_tilde = np.array([[2,3,0,0],[3,4,0,0],[0,0,1,4],[0,0,4,17]])\n",
    "H_tilde"
   ]
  },
  {
   "cell_type": "markdown",
   "metadata": {},
   "source": [
    "Therefore, one might compute D using:"
   ]
  },
  {
   "cell_type": "code",
   "execution_count": 10,
   "metadata": {
    "collapsed": true
   },
   "outputs": [],
   "source": [
    "def D(regularization):\n",
    "    return gradient_loss(beta).dot(delta_B) + gamma*delta_B.dot(H_tilde).dot(delta_B) + regularization*(np.linalg.norm(beta-delta_B, ord=1)-np.linalg.norm(beta, ord=1))"
   ]
  },
  {
   "cell_type": "markdown",
   "metadata": {},
   "source": [
    "Now, here is out line search function:"
   ]
  },
  {
   "cell_type": "code",
   "execution_count": 32,
   "metadata": {
    "collapsed": false
   },
   "outputs": [],
   "source": [
    "from scipy import optimize\n",
    "\n",
    "def line_search(regularization, delta_B, sufficient_decrease, delta, b, sigma, gamma):\n",
    "    if functional(beta,regularization) - functional(beta+delta_B,regularization) > sufficient_decrease:\n",
    "        return 1\n",
    "    else:\n",
    "        result = optimize.minimize_scalar(lambda x: functional(beta+x*delta_B,regularization), bounds=(delta,1), method='Bounded')\n",
    "        alpha_in = result.x\n",
    "        alpha = alpha_in\n",
    "        count = 0\n",
    "        while functional(beta+alpha*delta_B,regularization) > functional(beta,regularization) + alpha*sigma*D(regularization):\n",
    "            count += 1\n",
    "            alpha *= b**count\n",
    "    return alpha"
   ]
  },
  {
   "cell_type": "code",
   "execution_count": 33,
   "metadata": {
    "collapsed": false
   },
   "outputs": [],
   "source": [
    "# Set\n",
    "regularization = 3\n",
    "delta_B = np.array([.9,1,3,4])\n",
    "sufficient_decrease = 1000\n",
    "delta = 0.2\n",
    "b = .5\n",
    "sigma = .01\n",
    "gamma = 0"
   ]
  },
  {
   "cell_type": "code",
   "execution_count": 34,
   "metadata": {
    "collapsed": false
   },
   "outputs": [
    {
     "data": {
      "text/plain": [
       "5.5512366814618351e-18"
      ]
     },
     "execution_count": 34,
     "metadata": {},
     "output_type": "execute_result"
    }
   ],
   "source": [
    "line_search(regularization, delta_B, sufficient_decrease, delta, b, sigma, gamma)"
   ]
  }
 ],
 "metadata": {
  "anaconda-cloud": {},
  "kernelspec": {
   "display_name": "Python [Root]",
   "language": "python",
   "name": "Python [Root]"
  },
  "language_info": {
   "codemirror_mode": {
    "name": "ipython",
    "version": 3
   },
   "file_extension": ".py",
   "mimetype": "text/x-python",
   "name": "python",
   "nbconvert_exporter": "python",
   "pygments_lexer": "ipython3",
   "version": "3.5.2"
  }
 },
 "nbformat": 4,
 "nbformat_minor": 2
}
