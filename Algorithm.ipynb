{
 "cells": [
  {
   "cell_type": "markdown",
   "metadata": {},
   "source": [
    "# Brick algorithm"
   ]
  },
  {
   "cell_type": "markdown",
   "metadata": {},
   "source": [
    "# Mathis"
   ]
  },
  {
   "cell_type": "code",
   "execution_count": 6,
   "metadata": {
    "collapsed": false
   },
   "outputs": [],
   "source": [
    "# Line search\n",
    "\n",
    "import pandas as pd\n",
    "data = pd.read_csv('Iris_modified.csv', index_col = 0)"
   ]
  },
  {
   "cell_type": "code",
   "execution_count": 7,
   "metadata": {
    "collapsed": false
   },
   "outputs": [
    {
     "data": {
      "text/html": [
       "<div>\n",
       "<style>\n",
       "    .dataframe thead tr:only-child th {\n",
       "        text-align: right;\n",
       "    }\n",
       "\n",
       "    .dataframe thead th {\n",
       "        text-align: left;\n",
       "    }\n",
       "\n",
       "    .dataframe tbody tr th {\n",
       "        vertical-align: top;\n",
       "    }\n",
       "</style>\n",
       "<table border=\"1\" class=\"dataframe\">\n",
       "  <thead>\n",
       "    <tr style=\"text-align: right;\">\n",
       "      <th></th>\n",
       "      <th>SepalLengthCm</th>\n",
       "      <th>SepalWidthCm</th>\n",
       "      <th>PetalLengthCm</th>\n",
       "      <th>PetalWidthCm</th>\n",
       "      <th>Species</th>\n",
       "    </tr>\n",
       "  </thead>\n",
       "  <tbody>\n",
       "    <tr>\n",
       "      <th>0</th>\n",
       "      <td>5.1</td>\n",
       "      <td>3.5</td>\n",
       "      <td>1.4</td>\n",
       "      <td>0.2</td>\n",
       "      <td>-1</td>\n",
       "    </tr>\n",
       "    <tr>\n",
       "      <th>1</th>\n",
       "      <td>4.9</td>\n",
       "      <td>3.0</td>\n",
       "      <td>1.4</td>\n",
       "      <td>0.2</td>\n",
       "      <td>-1</td>\n",
       "    </tr>\n",
       "    <tr>\n",
       "      <th>2</th>\n",
       "      <td>4.7</td>\n",
       "      <td>3.2</td>\n",
       "      <td>1.3</td>\n",
       "      <td>0.2</td>\n",
       "      <td>-1</td>\n",
       "    </tr>\n",
       "    <tr>\n",
       "      <th>3</th>\n",
       "      <td>4.6</td>\n",
       "      <td>3.1</td>\n",
       "      <td>1.5</td>\n",
       "      <td>0.2</td>\n",
       "      <td>-1</td>\n",
       "    </tr>\n",
       "    <tr>\n",
       "      <th>4</th>\n",
       "      <td>5.0</td>\n",
       "      <td>3.6</td>\n",
       "      <td>1.4</td>\n",
       "      <td>0.2</td>\n",
       "      <td>-1</td>\n",
       "    </tr>\n",
       "  </tbody>\n",
       "</table>\n",
       "</div>"
      ],
      "text/plain": [
       "   SepalLengthCm  SepalWidthCm  PetalLengthCm  PetalWidthCm  Species\n",
       "0            5.1           3.5            1.4           0.2       -1\n",
       "1            4.9           3.0            1.4           0.2       -1\n",
       "2            4.7           3.2            1.3           0.2       -1\n",
       "3            4.6           3.1            1.5           0.2       -1\n",
       "4            5.0           3.6            1.4           0.2       -1"
      ]
     },
     "execution_count": 7,
     "metadata": {},
     "output_type": "execute_result"
    }
   ],
   "source": [
    "# These are the data I use to compute the functional we want to minimize (i.e f(Beta))\n",
    "data.head()"
   ]
  },
  {
   "cell_type": "code",
   "execution_count": 68,
   "metadata": {
    "collapsed": true
   },
   "outputs": [],
   "source": [
    "# Import modules\n",
    "import numpy as np"
   ]
  },
  {
   "cell_type": "code",
   "execution_count": 69,
   "metadata": {
    "collapsed": false
   },
   "outputs": [],
   "source": [
    "# Here I create the data matrix X, vector of response Y and vector of coefficients beta\n",
    "Y = data.Species.values\n",
    "X = data[data.columns.difference(['Species'])].as_matrix()\n",
    "beta = np.random.normal(size=4) # Here I simulate random coefficients from a normal 0,1 "
   ]
  },
  {
   "cell_type": "markdown",
   "metadata": {},
   "source": [
    "$f(\\beta) = L(\\beta) + \\lambda ||\\beta||_1$ where $L(\\beta) = \\sum\\limits_{i=1}^nlog(1+e^{-y_i\\beta^Tx_i})$"
   ]
  },
  {
   "cell_type": "code",
   "execution_count": 70,
   "metadata": {
    "collapsed": false
   },
   "outputs": [],
   "source": [
    "def loss_function(X,Y,beta):\n",
    "    y_beta_x = np.multiply(Y,X.dot(beta))\n",
    "    return sum(np.log(1+np.exp(-y_beta_x)))"
   ]
  },
  {
   "cell_type": "code",
   "execution_count": 71,
   "metadata": {
    "collapsed": false
   },
   "outputs": [],
   "source": [
    "def penalty(beta,regularization):\n",
    "    return regularization*np.linalg.norm(beta, ord=1)"
   ]
  },
  {
   "cell_type": "code",
   "execution_count": 72,
   "metadata": {
    "collapsed": true
   },
   "outputs": [],
   "source": [
    "# This is f(beta)\n",
    "def functional(X,Y,beta,regularization):\n",
    "    return loss_function(X,Y,beta)+penalty(beta,regularization)"
   ]
  },
  {
   "cell_type": "markdown",
   "metadata": {},
   "source": [
    "__Algorithm 3:__ Line search procedure:\n",
    "\n",
    "1. If $\\alpha = 1$ yields sufficient relative decrease in the objective, return $\\alpha=1$\n",
    "\n",
    "2. Find $\\alpha_{init} = argmin_{\\delta<\\alpha<1} \\text{  } f(\\beta+\\alpha\\Delta\\beta)$, $\\delta >0$\n",
    "\n",
    "3. Armijo rule: Let $\\alpha$ be the largest element of the sequence $\\{\\alpha_{init}b^j\\}_{j=0,1,...}$ satisfying\n",
    "\n",
    "<h1><center>\n",
    "$f(\\beta+\\alpha\\Delta\\beta) \\leq f(\\beta)+\\alpha\\sigma D$\n",
    "</center></h1>\n",
    "\n",
    "where $0<b<1$, $0<\\sigma<1$, $0\\leq\\gamma<1$, and\n",
    "\n",
    "<h1><center>\n",
    "$D = \\nabla L(\\beta)^T \\Delta\\beta+\\gamma\\Delta\\beta^T\\tilde{H}\\Delta\\beta+\\lambda(||\\beta-\\Delta\\beta||_1-||\\beta||_1)$\n",
    "</center></h1>\n",
    "\n",
    "return $\\alpha$"
   ]
  },
  {
   "cell_type": "markdown",
   "metadata": {},
   "source": [
    "What is difficult here is to compute D. In what follows, I explain how is computed $\\nabla L(\\beta)$ and $\\tilde{H}$:\n",
    "\n",
    "- $\\nabla L(\\beta) = \\frac{dL(\\beta)}{d\\beta} = (\\frac{dL(\\beta)}{d\\beta_1}, \\frac{dL(\\beta)}{d\\beta_2},...) \\text{  avec  } L(\\beta) = \\sum\\limits_{i=1}^nlog(1+e^{-y_i\\beta^Tx_i}) = \\sum\\limits_{i=1}^nlog(1+e^{-y_i(\\beta_{1i}x_{1i}+\\beta_{2i}x_{2i}+...)})$\n",
    "\n",
    "So it comes that $\\nabla L(\\beta) = \\bigg(\\sum\\limits_{i=1}^n\\frac{-y_ix_{1i}e^{-y_i(\\beta_{1i}x_{1i}+\\beta_{2i}x_{2i}+...)}}{1+e^{-y_i(\\beta_{1i}x_{1i}+\\beta_{2i}x_{2i}+...)}}, \\sum\\limits_{i=1}^n\\frac{-y_ix_{2i}e^{-y_i(\\beta_{1i}x_{1i}+\\beta_{2i}x_{2i}+...)}}{1+e^{-y_i(\\beta_{1i}x_{1i}+\\beta_{2i}x_{2i}+...)}},...\\bigg) = \\bigg(\\sum\\limits_{i=1}^n\\frac{-y_ix_{1i}e^{-y_i\\beta^Tx_i}}{1+e^{-y_i\\beta^Tx_i}}, \\sum\\limits_{i=1}^n\\frac{-y_ix_{2i}e^{-y_i\\beta^Tx_i}}{1+e^{-y_i\\beta^Tx_i}},...\\bigg)$"
   ]
  },
  {
   "cell_type": "code",
   "execution_count": 73,
   "metadata": {
    "collapsed": true
   },
   "outputs": [],
   "source": [
    "def gradient_loss(X,Y,beta):\n",
    "    gradient = []\n",
    "    for j in range(len(beta)):\n",
    "        y_beta_x = Y*X.dot(beta)\n",
    "        y_xj = Y*X[:,j]\n",
    "        gradient_betaj = sum((-y_xj*np.exp(-y_beta_x))/(1+np.exp(-y_beta_x)))\n",
    "        gradient.append(gradient_betaj)\n",
    "    return np.array(gradient)"
   ]
  },
  {
   "cell_type": "markdown",
   "metadata": {},
   "source": [
    "- $\\tilde{H}$ is such that $(\\tilde{H})_{jl} =\n",
    "    \\begin{cases}\n",
    "    (\\nabla^2L(\\beta))_{jl},& \\text{if } \\exists m:j,l \\in S_m\\\\\n",
    "    0,              & \\text{otherwise}\n",
    "    \\end{cases}$\n",
    "\n",
    "To compute the $\\tilde{H}$ matrix, we won't suppose any partitioning from now. We suppose that all our variables are on one machine."
   ]
  },
  {
   "cell_type": "markdown",
   "metadata": {},
   "source": [
    "To do this computation, we need first to define the second derivative of the loss between two variables $j$ and $l$.\n",
    "\n",
    "$(\\nabla^2L(\\beta))_{jl} = \\sum\\limits_{i=1}^n\\frac{y_i^2x_{ji}x_{li}e^{-y_i\\beta^Tx_i}(1+e^{-y_i\\beta^Tx_i}) + y_ix_{li}e^{-y_i\\beta^Tx_i}(-y_ix_{ji}e^{-y_i\\beta^Tx_i})}{(1+e^{-y_i\\beta^Tx_i})^2}$"
   ]
  },
  {
   "cell_type": "code",
   "execution_count": 74,
   "metadata": {
    "collapsed": false
   },
   "outputs": [],
   "source": [
    "def second_gradient_loss(X,Y,beta,variable_j,variable_l):\n",
    "    y_beta_x = Y*X.dot(beta)\n",
    "    ysq_xj_xl = Y**2*(X[:,variable_j]*X[:,variable_l])\n",
    "    gradient_betajl = sum((ysq_xj_xl*np.exp(-y_beta_x)*(1+np.exp(-y_beta_x)) + Y*(X[:,variable_l])*np.exp(-y_beta_x)*(-Y*(X[:,variable_j])*np.exp(-y_beta_x)))/(1+np.exp(-y_beta_x))**2)\n",
    "    return gradient_betajl"
   ]
  },
  {
   "cell_type": "code",
   "execution_count": 75,
   "metadata": {
    "collapsed": false
   },
   "outputs": [],
   "source": [
    "import itertools\n",
    "def H_tilde(X,Y,beta):\n",
    "    # Combination of all possible indexes\n",
    "    iterator = list(itertools.product([i for i in range(len(beta))], [i for i in range(len(beta))]))\n",
    "    # Initialize H_tilde matrix\n",
    "    H_tilde = np.empty((len(beta),len(beta),))\n",
    "    H_tilde[:] = np.nan\n",
    "    for i in iterator:\n",
    "        H_tilde[i[0],i[1]] = second_gradient_loss(X,Y,beta,i[0],i[1])\n",
    "    return H_tilde"
   ]
  },
  {
   "cell_type": "markdown",
   "metadata": {},
   "source": [
    "Therefore, one might compute D using:"
   ]
  },
  {
   "cell_type": "code",
   "execution_count": 76,
   "metadata": {
    "collapsed": true
   },
   "outputs": [],
   "source": [
    "def D(X,Y,beta,regularization):\n",
    "    return gradient_loss(X,Y,beta).dot(delta_B) + gamma*delta_B.dot(H_tilde(X,Y,beta)).dot(delta_B) + regularization*(np.linalg.norm(beta-delta_B, ord=1)-np.linalg.norm(beta, ord=1))"
   ]
  },
  {
   "cell_type": "markdown",
   "metadata": {},
   "source": [
    "Now, here is out line search function:"
   ]
  },
  {
   "cell_type": "code",
   "execution_count": 77,
   "metadata": {
    "collapsed": false
   },
   "outputs": [],
   "source": [
    "from scipy import optimize\n",
    "\n",
    "def line_search(X,Y,beta,regularization, delta_B, sufficient_decrease, delta, b, sigma, gamma):\n",
    "    if functional(X,Y,beta,regularization) - functional(X,Y,beta+delta_B,regularization) > sufficient_decrease:\n",
    "        return 1\n",
    "    else:\n",
    "        result = optimize.minimize_scalar(lambda x: functional(X,Y,beta+x*delta_B,regularization), bounds=(delta,1), method='Bounded')\n",
    "        alpha_in = result.x\n",
    "        alpha = alpha_in\n",
    "        count = 0\n",
    "        while functional(X,Y,beta+alpha*delta_B,regularization) > functional(X,Y,beta,regularization) + alpha*sigma*D(X,Y,beta,regularization):\n",
    "            count += 1\n",
    "            alpha *= b**count\n",
    "    return alpha"
   ]
  },
  {
   "cell_type": "code",
   "execution_count": 88,
   "metadata": {
    "collapsed": false
   },
   "outputs": [],
   "source": [
    "# Set\n",
    "regularization = 3\n",
    "delta_B = np.array([.9,1,3,4])\n",
    "sufficient_decrease = 1000\n",
    "delta = 0.2\n",
    "b = .5\n",
    "sigma = .01\n",
    "gamma = 0"
   ]
  },
  {
   "cell_type": "code",
   "execution_count": 89,
   "metadata": {
    "collapsed": false
   },
   "outputs": [
    {
     "data": {
      "text/plain": [
       "5.5512366814618351e-18"
      ]
     },
     "execution_count": 89,
     "metadata": {},
     "output_type": "execute_result"
    }
   ],
   "source": [
    "line_search(X,Y,beta,regularization, delta_B, sufficient_decrease, delta, b, sigma, gamma)"
   ]
  }
 ],
 "metadata": {
  "anaconda-cloud": {},
  "kernelspec": {
   "display_name": "Python [Root]",
   "language": "python",
   "name": "Python [Root]"
  },
  "language_info": {
   "codemirror_mode": {
    "name": "ipython",
    "version": 3
   },
   "file_extension": ".py",
   "mimetype": "text/x-python",
   "name": "python",
   "nbconvert_exporter": "python",
   "pygments_lexer": "ipython3",
   "version": "3.5.2"
  }
 },
 "nbformat": 4,
 "nbformat_minor": 2
}
