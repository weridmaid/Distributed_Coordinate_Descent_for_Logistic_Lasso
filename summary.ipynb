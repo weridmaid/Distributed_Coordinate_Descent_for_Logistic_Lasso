{
 "cells": [
  {
   "cell_type": "code",
   "execution_count": 3,
   "metadata": {
    "collapsed": true
   },
   "outputs": [],
   "source": [
    "# Packages needed\n",
    "\n",
    "import numpy as np\n",
    "import itertools\n",
    "from scipy import optimize"
   ]
  },
  {
   "cell_type": "code",
   "execution_count": null,
   "metadata": {
    "collapsed": true
   },
   "outputs": [],
   "source": [
    "# Inputs\n",
    "\n",
    "regularization # Parameter from the objective function\n",
    "X # features' matrix\n",
    "Y # target array\n",
    "beta # current coefficients' array\n",
    "delta_B # from your part\n",
    "\n",
    "# Parameters to set for the line search\n",
    "delta = .2\n",
    "b = .5\n",
    "sigma = .01\n",
    "gamma = 0"
   ]
  },
  {
   "cell_type": "code",
   "execution_count": 29,
   "metadata": {
    "collapsed": true
   },
   "outputs": [],
   "source": [
    "# Bricks for the line search\n",
    "\n",
    "def loss_function(X,Y,beta):\n",
    "    y_beta_x = np.multiply(Y,X.dot(beta))\n",
    "    return sum(np.log(1+np.exp(-y_beta_x)))\n",
    "\n",
    "def penalty(beta,regularization):\n",
    "    return regularization*np.linalg.norm(beta, ord=1)\n",
    "\n",
    "def functional(X,Y,beta,regularization):\n",
    "    return loss_function(X,Y,beta)+penalty(beta,regularization)\n",
    "\n",
    "def gradient_loss(X,Y,beta):\n",
    "    gradient = []\n",
    "    for j in range(len(beta)):\n",
    "        y_beta_x = Y*X.dot(beta)\n",
    "        y_xj = Y*X[:,j]\n",
    "        gradient_betaj = sum((-y_xj*np.exp(-y_beta_x))/(1+np.exp(-y_beta_x)))\n",
    "        gradient.append(gradient_betaj)\n",
    "    return np.array(gradient)\n",
    "\n",
    "def second_gradient_loss(X,Y,beta,variable_j,variable_l):\n",
    "    y_beta_x = Y*X.dot(beta)\n",
    "    ysq_xj_xl = Y**2*(X[:,variable_j]*X[:,variable_l])\n",
    "    gradient_betajl = sum((ysq_xj_xl*np.exp(-y_beta_x)*(1+np.exp(-y_beta_x)) + Y*(X[:,variable_l])*np.exp(-y_beta_x)*(-Y*(X[:,variable_j])*np.exp(-y_beta_x)))/(1+np.exp(-y_beta_x))**2)\n",
    "    return gradient_betajl\n",
    "\n",
    "def H_tilde(X,Y,beta):\n",
    "    # Combination of all possible indexes\n",
    "    iterator = list(itertools.product([i for i in range(len(beta))], [i for i in range(len(beta))]))\n",
    "    # Initialize H_tilde matrix\n",
    "    H_tilde = np.empty((len(beta),len(beta),))\n",
    "    H_tilde[:] = np.nan\n",
    "    for i in iterator:\n",
    "        H_tilde[i[0],i[1]] = second_gradient_loss(X,Y,beta,i[0],i[1])\n",
    "    return H_tilde\n",
    "\n",
    "def D(X,Y,beta,regularization):\n",
    "    return gradient_loss(X,Y,beta).dot(delta_B) + gamma*delta_B.dot(H_tilde(X,Y,beta)).dot(delta_B) + regularization*(np.linalg.norm(beta-delta_B, ord=1)-np.linalg.norm(beta, ord=1))"
   ]
  },
  {
   "cell_type": "code",
   "execution_count": 30,
   "metadata": {
    "collapsed": true
   },
   "outputs": [],
   "source": [
    "# Line search\n",
    "\n",
    "def line_search(X,Y,beta,regularization, delta_B, sufficient_decrease, delta, b, sigma, gamma):\n",
    "    if functional(X,Y,beta,regularization) - functional(X,Y,beta+delta_B,regularization) > sufficient_decrease:\n",
    "        return 1\n",
    "    else:\n",
    "        result = optimize.minimize_scalar(lambda x: functional(X,Y,beta+x*delta_B,regularization), bounds=(delta,1), method='Bounded')\n",
    "        alpha_in = result.x\n",
    "        alpha = alpha_in\n",
    "        count = 0\n",
    "        while functional(X,Y,beta+alpha*delta_B,regularization) > functional(X,Y,beta,regularization) + alpha*sigma*D(X,Y,beta,regularization):\n",
    "            count += 1\n",
    "            alpha *= b**count\n",
    "    return alpha"
   ]
  }
 ],
 "metadata": {
  "kernelspec": {
   "display_name": "Python [Root]",
   "language": "python",
   "name": "Python [Root]"
  },
  "language_info": {
   "codemirror_mode": {
    "name": "ipython",
    "version": 3
   },
   "file_extension": ".py",
   "mimetype": "text/x-python",
   "name": "python",
   "nbconvert_exporter": "python",
   "pygments_lexer": "ipython3",
   "version": "3.5.2"
  }
 },
 "nbformat": 4,
 "nbformat_minor": 2
}
